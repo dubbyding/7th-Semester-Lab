{
 "cells": [
  {
   "cell_type": "markdown",
   "id": "cbf2bcda",
   "metadata": {},
   "source": [
    "# Data Mining Lab-2\n",
    "This lab is for multilayer preceptron and preprocessing with python"
   ]
  },
  {
   "cell_type": "markdown",
   "id": "9d5e5495",
   "metadata": {},
   "source": [
    "## Installing libraries\n",
    "This step is optional\n",
    "Following are installed if not already installed\n",
    "* pandas (This includes numpy)\n",
    "* scikit-learn"
   ]
  },
  {
   "cell_type": "code",
   "execution_count": 1,
   "id": "527346cb",
   "metadata": {},
   "outputs": [
    {
     "name": "stdout",
     "output_type": "stream",
     "text": [
      "Collecting package metadata (current_repodata.json): done\n",
      "Solving environment: done\n",
      "\n",
      "# All requested packages already installed.\n",
      "\n"
     ]
    }
   ],
   "source": [
    "!conda install pandas scikit-learn keras matplotlib tensorflow --yes"
   ]
  },
  {
   "cell_type": "code",
   "execution_count": 2,
   "id": "60eb60d6",
   "metadata": {},
   "outputs": [
    {
     "name": "stdout",
     "output_type": "stream",
     "text": [
      "Requirement already satisfied: pydot in ./env/lib/python3.9/site-packages (1.4.2)\r\n",
      "Requirement already satisfied: pydotplus in ./env/lib/python3.9/site-packages (2.0.2)\r\n",
      "Requirement already satisfied: graphviz in ./env/lib/python3.9/site-packages (0.17)\r\n",
      "Requirement already satisfied: pyparsing>=2.1.4 in ./env/lib/python3.9/site-packages (from pydot) (2.4.7)\r\n"
     ]
    }
   ],
   "source": [
    "!pip3 install pydot pydotplus graphviz"
   ]
  },
  {
   "cell_type": "markdown",
   "id": "4a19f924",
   "metadata": {},
   "source": [
    "## Importing datasets"
   ]
  },
  {
   "cell_type": "code",
   "execution_count": 3,
   "id": "39840538",
   "metadata": {},
   "outputs": [],
   "source": [
    "import pandas as pd\n",
    "import matplotlib.pyplot as plt\n",
    "import numpy as np\n",
    "import random as rn\n",
    "import tensorflow as tf\n",
    "%matplotlib inline\n",
    "\n",
    "from sklearn.model_selection import train_test_split\n",
    "from sklearn.metrics import plot_confusion_matrix, confusion_matrix\n",
    "\n",
    "from keras.models import Sequential\n",
    "from keras.layers import Dense\n",
    "from keras.optimizers import Adam\n",
    "\n",
    "from keras.utils.vis_utils import plot_model"
   ]
  },
  {
   "cell_type": "markdown",
   "id": "df311fe3",
   "metadata": {},
   "source": [
    "## To make reproducablity"
   ]
  },
  {
   "cell_type": "code",
   "execution_count": 4,
   "id": "c0d56057",
   "metadata": {},
   "outputs": [],
   "source": [
    "np.random.seed(9)   # To make results repeatable\n",
    "rn.seed(9)\n",
    "tf.random.set_seed(9)"
   ]
  },
  {
   "cell_type": "markdown",
   "id": "03ff3bb7",
   "metadata": {},
   "source": [
    "## Loading the dataset"
   ]
  },
  {
   "cell_type": "code",
   "execution_count": 5,
   "id": "3c7e9030",
   "metadata": {},
   "outputs": [
    {
     "data": {
      "text/html": [
       "<div>\n",
       "<style scoped>\n",
       "    .dataframe tbody tr th:only-of-type {\n",
       "        vertical-align: middle;\n",
       "    }\n",
       "\n",
       "    .dataframe tbody tr th {\n",
       "        vertical-align: top;\n",
       "    }\n",
       "\n",
       "    .dataframe thead th {\n",
       "        text-align: right;\n",
       "    }\n",
       "</style>\n",
       "<table border=\"1\" class=\"dataframe\">\n",
       "  <thead>\n",
       "    <tr style=\"text-align: right;\">\n",
       "      <th></th>\n",
       "      <th>SepalLengthCm</th>\n",
       "      <th>SepalWidthCm</th>\n",
       "      <th>PetalLengthCm</th>\n",
       "      <th>PetalWidthCm</th>\n",
       "      <th>Species</th>\n",
       "    </tr>\n",
       "  </thead>\n",
       "  <tbody>\n",
       "    <tr>\n",
       "      <th>0</th>\n",
       "      <td>5.1</td>\n",
       "      <td>3.5</td>\n",
       "      <td>1.4</td>\n",
       "      <td>0.2</td>\n",
       "      <td>Iris-setosa</td>\n",
       "    </tr>\n",
       "    <tr>\n",
       "      <th>1</th>\n",
       "      <td>4.9</td>\n",
       "      <td>3.0</td>\n",
       "      <td>1.4</td>\n",
       "      <td>0.2</td>\n",
       "      <td>Iris-setosa</td>\n",
       "    </tr>\n",
       "    <tr>\n",
       "      <th>2</th>\n",
       "      <td>4.7</td>\n",
       "      <td>3.2</td>\n",
       "      <td>1.3</td>\n",
       "      <td>0.2</td>\n",
       "      <td>Iris-setosa</td>\n",
       "    </tr>\n",
       "    <tr>\n",
       "      <th>3</th>\n",
       "      <td>4.6</td>\n",
       "      <td>3.1</td>\n",
       "      <td>1.5</td>\n",
       "      <td>0.2</td>\n",
       "      <td>Iris-setosa</td>\n",
       "    </tr>\n",
       "    <tr>\n",
       "      <th>4</th>\n",
       "      <td>5.0</td>\n",
       "      <td>3.6</td>\n",
       "      <td>1.4</td>\n",
       "      <td>0.2</td>\n",
       "      <td>Iris-setosa</td>\n",
       "    </tr>\n",
       "  </tbody>\n",
       "</table>\n",
       "</div>"
      ],
      "text/plain": [
       "   SepalLengthCm  SepalWidthCm  PetalLengthCm  PetalWidthCm      Species\n",
       "0            5.1           3.5            1.4           0.2  Iris-setosa\n",
       "1            4.9           3.0            1.4           0.2  Iris-setosa\n",
       "2            4.7           3.2            1.3           0.2  Iris-setosa\n",
       "3            4.6           3.1            1.5           0.2  Iris-setosa\n",
       "4            5.0           3.6            1.4           0.2  Iris-setosa"
      ]
     },
     "execution_count": 5,
     "metadata": {},
     "output_type": "execute_result"
    }
   ],
   "source": [
    "data = pd.read_csv('Data/iris.csv')\n",
    "data.head()"
   ]
  },
  {
   "cell_type": "markdown",
   "id": "65f028f4",
   "metadata": {},
   "source": [
    "## Data description"
   ]
  },
  {
   "cell_type": "code",
   "execution_count": 6,
   "id": "ae572d56",
   "metadata": {},
   "outputs": [
    {
     "data": {
      "text/html": [
       "<div>\n",
       "<style scoped>\n",
       "    .dataframe tbody tr th:only-of-type {\n",
       "        vertical-align: middle;\n",
       "    }\n",
       "\n",
       "    .dataframe tbody tr th {\n",
       "        vertical-align: top;\n",
       "    }\n",
       "\n",
       "    .dataframe thead th {\n",
       "        text-align: right;\n",
       "    }\n",
       "</style>\n",
       "<table border=\"1\" class=\"dataframe\">\n",
       "  <thead>\n",
       "    <tr style=\"text-align: right;\">\n",
       "      <th></th>\n",
       "      <th>SepalLengthCm</th>\n",
       "      <th>SepalWidthCm</th>\n",
       "      <th>PetalLengthCm</th>\n",
       "      <th>PetalWidthCm</th>\n",
       "    </tr>\n",
       "  </thead>\n",
       "  <tbody>\n",
       "    <tr>\n",
       "      <th>count</th>\n",
       "      <td>150.000000</td>\n",
       "      <td>150.000000</td>\n",
       "      <td>150.000000</td>\n",
       "      <td>150.000000</td>\n",
       "    </tr>\n",
       "    <tr>\n",
       "      <th>mean</th>\n",
       "      <td>5.843333</td>\n",
       "      <td>3.054000</td>\n",
       "      <td>3.758667</td>\n",
       "      <td>1.198667</td>\n",
       "    </tr>\n",
       "    <tr>\n",
       "      <th>std</th>\n",
       "      <td>0.828066</td>\n",
       "      <td>0.433594</td>\n",
       "      <td>1.764420</td>\n",
       "      <td>0.763161</td>\n",
       "    </tr>\n",
       "    <tr>\n",
       "      <th>min</th>\n",
       "      <td>4.300000</td>\n",
       "      <td>2.000000</td>\n",
       "      <td>1.000000</td>\n",
       "      <td>0.100000</td>\n",
       "    </tr>\n",
       "    <tr>\n",
       "      <th>25%</th>\n",
       "      <td>5.100000</td>\n",
       "      <td>2.800000</td>\n",
       "      <td>1.600000</td>\n",
       "      <td>0.300000</td>\n",
       "    </tr>\n",
       "    <tr>\n",
       "      <th>50%</th>\n",
       "      <td>5.800000</td>\n",
       "      <td>3.000000</td>\n",
       "      <td>4.350000</td>\n",
       "      <td>1.300000</td>\n",
       "    </tr>\n",
       "    <tr>\n",
       "      <th>75%</th>\n",
       "      <td>6.400000</td>\n",
       "      <td>3.300000</td>\n",
       "      <td>5.100000</td>\n",
       "      <td>1.800000</td>\n",
       "    </tr>\n",
       "    <tr>\n",
       "      <th>max</th>\n",
       "      <td>7.900000</td>\n",
       "      <td>4.400000</td>\n",
       "      <td>6.900000</td>\n",
       "      <td>2.500000</td>\n",
       "    </tr>\n",
       "  </tbody>\n",
       "</table>\n",
       "</div>"
      ],
      "text/plain": [
       "       SepalLengthCm  SepalWidthCm  PetalLengthCm  PetalWidthCm\n",
       "count     150.000000    150.000000     150.000000    150.000000\n",
       "mean        5.843333      3.054000       3.758667      1.198667\n",
       "std         0.828066      0.433594       1.764420      0.763161\n",
       "min         4.300000      2.000000       1.000000      0.100000\n",
       "25%         5.100000      2.800000       1.600000      0.300000\n",
       "50%         5.800000      3.000000       4.350000      1.300000\n",
       "75%         6.400000      3.300000       5.100000      1.800000\n",
       "max         7.900000      4.400000       6.900000      2.500000"
      ]
     },
     "execution_count": 6,
     "metadata": {},
     "output_type": "execute_result"
    }
   ],
   "source": [
    "data.describe()"
   ]
  },
  {
   "cell_type": "markdown",
   "id": "1046e734",
   "metadata": {},
   "source": [
    "## Normalizing the data"
   ]
  },
  {
   "cell_type": "code",
   "execution_count": 7,
   "id": "949ff4b1",
   "metadata": {},
   "outputs": [
    {
     "data": {
      "text/html": [
       "<div>\n",
       "<style scoped>\n",
       "    .dataframe tbody tr th:only-of-type {\n",
       "        vertical-align: middle;\n",
       "    }\n",
       "\n",
       "    .dataframe tbody tr th {\n",
       "        vertical-align: top;\n",
       "    }\n",
       "\n",
       "    .dataframe thead th {\n",
       "        text-align: right;\n",
       "    }\n",
       "</style>\n",
       "<table border=\"1\" class=\"dataframe\">\n",
       "  <thead>\n",
       "    <tr style=\"text-align: right;\">\n",
       "      <th></th>\n",
       "      <th>SepalLengthCm</th>\n",
       "      <th>SepalWidthCm</th>\n",
       "      <th>PetalLengthCm</th>\n",
       "      <th>PetalWidthCm</th>\n",
       "    </tr>\n",
       "  </thead>\n",
       "  <tbody>\n",
       "    <tr>\n",
       "      <th>135</th>\n",
       "      <td>0.944444</td>\n",
       "      <td>0.416667</td>\n",
       "      <td>0.864407</td>\n",
       "      <td>0.916667</td>\n",
       "    </tr>\n",
       "    <tr>\n",
       "      <th>90</th>\n",
       "      <td>0.333333</td>\n",
       "      <td>0.250000</td>\n",
       "      <td>0.576271</td>\n",
       "      <td>0.458333</td>\n",
       "    </tr>\n",
       "    <tr>\n",
       "      <th>145</th>\n",
       "      <td>0.666667</td>\n",
       "      <td>0.416667</td>\n",
       "      <td>0.711864</td>\n",
       "      <td>0.916667</td>\n",
       "    </tr>\n",
       "    <tr>\n",
       "      <th>147</th>\n",
       "      <td>0.611111</td>\n",
       "      <td>0.416667</td>\n",
       "      <td>0.711864</td>\n",
       "      <td>0.791667</td>\n",
       "    </tr>\n",
       "    <tr>\n",
       "      <th>60</th>\n",
       "      <td>0.194444</td>\n",
       "      <td>0.000000</td>\n",
       "      <td>0.423729</td>\n",
       "      <td>0.375000</td>\n",
       "    </tr>\n",
       "    <tr>\n",
       "      <th>37</th>\n",
       "      <td>0.166667</td>\n",
       "      <td>0.458333</td>\n",
       "      <td>0.084746</td>\n",
       "      <td>0.000000</td>\n",
       "    </tr>\n",
       "    <tr>\n",
       "      <th>26</th>\n",
       "      <td>0.194444</td>\n",
       "      <td>0.583333</td>\n",
       "      <td>0.101695</td>\n",
       "      <td>0.125000</td>\n",
       "    </tr>\n",
       "    <tr>\n",
       "      <th>3</th>\n",
       "      <td>0.083333</td>\n",
       "      <td>0.458333</td>\n",
       "      <td>0.084746</td>\n",
       "      <td>0.041667</td>\n",
       "    </tr>\n",
       "    <tr>\n",
       "      <th>75</th>\n",
       "      <td>0.638889</td>\n",
       "      <td>0.416667</td>\n",
       "      <td>0.576271</td>\n",
       "      <td>0.541667</td>\n",
       "    </tr>\n",
       "    <tr>\n",
       "      <th>9</th>\n",
       "      <td>0.166667</td>\n",
       "      <td>0.458333</td>\n",
       "      <td>0.084746</td>\n",
       "      <td>0.000000</td>\n",
       "    </tr>\n",
       "  </tbody>\n",
       "</table>\n",
       "</div>"
      ],
      "text/plain": [
       "     SepalLengthCm  SepalWidthCm  PetalLengthCm  PetalWidthCm\n",
       "135       0.944444      0.416667       0.864407      0.916667\n",
       "90        0.333333      0.250000       0.576271      0.458333\n",
       "145       0.666667      0.416667       0.711864      0.916667\n",
       "147       0.611111      0.416667       0.711864      0.791667\n",
       "60        0.194444      0.000000       0.423729      0.375000\n",
       "37        0.166667      0.458333       0.084746      0.000000\n",
       "26        0.194444      0.583333       0.101695      0.125000\n",
       "3         0.083333      0.458333       0.084746      0.041667\n",
       "75        0.638889      0.416667       0.576271      0.541667\n",
       "9         0.166667      0.458333       0.084746      0.000000"
      ]
     },
     "execution_count": 7,
     "metadata": {},
     "output_type": "execute_result"
    }
   ],
   "source": [
    "df_norm = data[['SepalLengthCm', 'SepalWidthCm', 'PetalLengthCm', 'PetalWidthCm']].apply(lambda x: (x - x.min()) / (x.max() - x.min()))\n",
    "df_norm.sample(n=10)"
   ]
  },
  {
   "cell_type": "code",
   "execution_count": 8,
   "id": "49fc610d",
   "metadata": {},
   "outputs": [
    {
     "data": {
      "text/html": [
       "<div>\n",
       "<style scoped>\n",
       "    .dataframe tbody tr th:only-of-type {\n",
       "        vertical-align: middle;\n",
       "    }\n",
       "\n",
       "    .dataframe tbody tr th {\n",
       "        vertical-align: top;\n",
       "    }\n",
       "\n",
       "    .dataframe thead th {\n",
       "        text-align: right;\n",
       "    }\n",
       "</style>\n",
       "<table border=\"1\" class=\"dataframe\">\n",
       "  <thead>\n",
       "    <tr style=\"text-align: right;\">\n",
       "      <th></th>\n",
       "      <th>SepalLengthCm</th>\n",
       "      <th>SepalWidthCm</th>\n",
       "      <th>PetalLengthCm</th>\n",
       "      <th>PetalWidthCm</th>\n",
       "    </tr>\n",
       "  </thead>\n",
       "  <tbody>\n",
       "    <tr>\n",
       "      <th>count</th>\n",
       "      <td>150.000000</td>\n",
       "      <td>150.000000</td>\n",
       "      <td>150.000000</td>\n",
       "      <td>150.000000</td>\n",
       "    </tr>\n",
       "    <tr>\n",
       "      <th>mean</th>\n",
       "      <td>0.428704</td>\n",
       "      <td>0.439167</td>\n",
       "      <td>0.467571</td>\n",
       "      <td>0.457778</td>\n",
       "    </tr>\n",
       "    <tr>\n",
       "      <th>std</th>\n",
       "      <td>0.230018</td>\n",
       "      <td>0.180664</td>\n",
       "      <td>0.299054</td>\n",
       "      <td>0.317984</td>\n",
       "    </tr>\n",
       "    <tr>\n",
       "      <th>min</th>\n",
       "      <td>0.000000</td>\n",
       "      <td>0.000000</td>\n",
       "      <td>0.000000</td>\n",
       "      <td>0.000000</td>\n",
       "    </tr>\n",
       "    <tr>\n",
       "      <th>25%</th>\n",
       "      <td>0.222222</td>\n",
       "      <td>0.333333</td>\n",
       "      <td>0.101695</td>\n",
       "      <td>0.083333</td>\n",
       "    </tr>\n",
       "    <tr>\n",
       "      <th>50%</th>\n",
       "      <td>0.416667</td>\n",
       "      <td>0.416667</td>\n",
       "      <td>0.567797</td>\n",
       "      <td>0.500000</td>\n",
       "    </tr>\n",
       "    <tr>\n",
       "      <th>75%</th>\n",
       "      <td>0.583333</td>\n",
       "      <td>0.541667</td>\n",
       "      <td>0.694915</td>\n",
       "      <td>0.708333</td>\n",
       "    </tr>\n",
       "    <tr>\n",
       "      <th>max</th>\n",
       "      <td>1.000000</td>\n",
       "      <td>1.000000</td>\n",
       "      <td>1.000000</td>\n",
       "      <td>1.000000</td>\n",
       "    </tr>\n",
       "  </tbody>\n",
       "</table>\n",
       "</div>"
      ],
      "text/plain": [
       "       SepalLengthCm  SepalWidthCm  PetalLengthCm  PetalWidthCm\n",
       "count     150.000000    150.000000     150.000000    150.000000\n",
       "mean        0.428704      0.439167       0.467571      0.457778\n",
       "std         0.230018      0.180664       0.299054      0.317984\n",
       "min         0.000000      0.000000       0.000000      0.000000\n",
       "25%         0.222222      0.333333       0.101695      0.083333\n",
       "50%         0.416667      0.416667       0.567797      0.500000\n",
       "75%         0.583333      0.541667       0.694915      0.708333\n",
       "max         1.000000      1.000000       1.000000      1.000000"
      ]
     },
     "execution_count": 8,
     "metadata": {},
     "output_type": "execute_result"
    }
   ],
   "source": [
    "df_norm.describe()"
   ]
  },
  {
   "cell_type": "code",
   "execution_count": 9,
   "id": "fa84eeca",
   "metadata": {},
   "outputs": [
    {
     "data": {
      "text/html": [
       "<div>\n",
       "<style scoped>\n",
       "    .dataframe tbody tr th:only-of-type {\n",
       "        vertical-align: middle;\n",
       "    }\n",
       "\n",
       "    .dataframe tbody tr th {\n",
       "        vertical-align: top;\n",
       "    }\n",
       "\n",
       "    .dataframe thead th {\n",
       "        text-align: right;\n",
       "    }\n",
       "</style>\n",
       "<table border=\"1\" class=\"dataframe\">\n",
       "  <thead>\n",
       "    <tr style=\"text-align: right;\">\n",
       "      <th></th>\n",
       "      <th>Species</th>\n",
       "    </tr>\n",
       "  </thead>\n",
       "  <tbody>\n",
       "    <tr>\n",
       "      <th>39</th>\n",
       "      <td>0</td>\n",
       "    </tr>\n",
       "    <tr>\n",
       "      <th>38</th>\n",
       "      <td>0</td>\n",
       "    </tr>\n",
       "    <tr>\n",
       "      <th>0</th>\n",
       "      <td>0</td>\n",
       "    </tr>\n",
       "    <tr>\n",
       "      <th>13</th>\n",
       "      <td>0</td>\n",
       "    </tr>\n",
       "    <tr>\n",
       "      <th>90</th>\n",
       "      <td>1</td>\n",
       "    </tr>\n",
       "  </tbody>\n",
       "</table>\n",
       "</div>"
      ],
      "text/plain": [
       "    Species\n",
       "39        0\n",
       "38        0\n",
       "0         0\n",
       "13        0\n",
       "90        1"
      ]
     },
     "execution_count": 9,
     "metadata": {},
     "output_type": "execute_result"
    }
   ],
   "source": [
    "target = data[['Species']].replace(['Iris-setosa', 'Iris-versicolor', 'Iris-virginica'], [0, 1, 2])\n",
    "target.sample(n=5)"
   ]
  },
  {
   "cell_type": "code",
   "execution_count": 10,
   "id": "2f00862d",
   "metadata": {},
   "outputs": [
    {
     "data": {
      "text/html": [
       "<div>\n",
       "<style scoped>\n",
       "    .dataframe tbody tr th:only-of-type {\n",
       "        vertical-align: middle;\n",
       "    }\n",
       "\n",
       "    .dataframe tbody tr th {\n",
       "        vertical-align: top;\n",
       "    }\n",
       "\n",
       "    .dataframe thead th {\n",
       "        text-align: right;\n",
       "    }\n",
       "</style>\n",
       "<table border=\"1\" class=\"dataframe\">\n",
       "  <thead>\n",
       "    <tr style=\"text-align: right;\">\n",
       "      <th></th>\n",
       "      <th>SepalLengthCm</th>\n",
       "      <th>SepalWidthCm</th>\n",
       "      <th>PetalLengthCm</th>\n",
       "      <th>PetalWidthCm</th>\n",
       "      <th>Species</th>\n",
       "    </tr>\n",
       "  </thead>\n",
       "  <tbody>\n",
       "    <tr>\n",
       "      <th>95</th>\n",
       "      <td>0.388889</td>\n",
       "      <td>0.416667</td>\n",
       "      <td>0.542373</td>\n",
       "      <td>0.458333</td>\n",
       "      <td>1</td>\n",
       "    </tr>\n",
       "    <tr>\n",
       "      <th>120</th>\n",
       "      <td>0.722222</td>\n",
       "      <td>0.500000</td>\n",
       "      <td>0.796610</td>\n",
       "      <td>0.916667</td>\n",
       "      <td>2</td>\n",
       "    </tr>\n",
       "    <tr>\n",
       "      <th>145</th>\n",
       "      <td>0.666667</td>\n",
       "      <td>0.416667</td>\n",
       "      <td>0.711864</td>\n",
       "      <td>0.916667</td>\n",
       "      <td>2</td>\n",
       "    </tr>\n",
       "    <tr>\n",
       "      <th>22</th>\n",
       "      <td>0.083333</td>\n",
       "      <td>0.666667</td>\n",
       "      <td>0.000000</td>\n",
       "      <td>0.041667</td>\n",
       "      <td>0</td>\n",
       "    </tr>\n",
       "    <tr>\n",
       "      <th>33</th>\n",
       "      <td>0.333333</td>\n",
       "      <td>0.916667</td>\n",
       "      <td>0.067797</td>\n",
       "      <td>0.041667</td>\n",
       "      <td>0</td>\n",
       "    </tr>\n",
       "  </tbody>\n",
       "</table>\n",
       "</div>"
      ],
      "text/plain": [
       "     SepalLengthCm  SepalWidthCm  PetalLengthCm  PetalWidthCm  Species\n",
       "95        0.388889      0.416667       0.542373      0.458333        1\n",
       "120       0.722222      0.500000       0.796610      0.916667        2\n",
       "145       0.666667      0.416667       0.711864      0.916667        2\n",
       "22        0.083333      0.666667       0.000000      0.041667        0\n",
       "33        0.333333      0.916667       0.067797      0.041667        0"
      ]
     },
     "execution_count": 10,
     "metadata": {},
     "output_type": "execute_result"
    }
   ],
   "source": [
    "df = pd.concat([df_norm, target], axis=1)\n",
    "df.sample(n=5)"
   ]
  },
  {
   "cell_type": "markdown",
   "id": "a3e6f04b",
   "metadata": {},
   "source": [
    "## Dividing to train and test sample"
   ]
  },
  {
   "cell_type": "code",
   "execution_count": 11,
   "id": "7351532f",
   "metadata": {},
   "outputs": [],
   "source": [
    "x = df.drop('Species', axis=1)\n",
    "y = df['Species']\n",
    "X_train, X_test, y_train, y_test = train_test_split(x, y, test_size=0.2)"
   ]
  },
  {
   "cell_type": "markdown",
   "id": "2c4bf9a4",
   "metadata": {},
   "source": [
    "## Modelling"
   ]
  },
  {
   "cell_type": "code",
   "execution_count": 12,
   "id": "c28e8886",
   "metadata": {},
   "outputs": [],
   "source": [
    "model = Sequential()\n",
    "model.add(Dense(8, input_dim=4, activation='relu'))\n",
    "model.add(Dense(4, activation='relu'))\n",
    "model.add(Dense(1, activation='sigmoid'))"
   ]
  },
  {
   "cell_type": "code",
   "execution_count": 13,
   "id": "f3b83dfc",
   "metadata": {},
   "outputs": [
    {
     "name": "stdout",
     "output_type": "stream",
     "text": [
      "Model: \"sequential\"\n",
      "_________________________________________________________________\n",
      "Layer (type)                 Output Shape              Param #   \n",
      "=================================================================\n",
      "dense (Dense)                (None, 8)                 40        \n",
      "_________________________________________________________________\n",
      "dense_1 (Dense)              (None, 4)                 36        \n",
      "_________________________________________________________________\n",
      "dense_2 (Dense)              (None, 1)                 5         \n",
      "=================================================================\n",
      "Total params: 81\n",
      "Trainable params: 81\n",
      "Non-trainable params: 0\n",
      "_________________________________________________________________\n",
      "None\n"
     ]
    }
   ],
   "source": [
    "print(model.summary())"
   ]
  },
  {
   "cell_type": "code",
   "execution_count": 14,
   "id": "b1219df9",
   "metadata": {},
   "outputs": [
    {
     "data": {
      "image/png": "[encoded data removed]",
      "text/plain": [
       "<IPython.core.display.Image object>"
      ]
     },
     "execution_count": 14,
     "metadata": {},
     "output_type": "execute_result"
    }
   ],
   "source": [
    "plot_model(model, to_file='my_model_plot.png', show_shapes=True, show_layer_names=True)"
   ]
  },
  {
   "cell_type": "code",
   "execution_count": 15,
   "id": "c3554883",
   "metadata": {},
   "outputs": [],
   "source": [
    "model.compile(loss='binary_crossentropy', optimizer='adam', metrics=['accuracy'])"
   ]
  },
  {
   "cell_type": "code",
   "execution_count": 16,
   "id": "83fdd65e",
   "metadata": {
    "scrolled": true
   },
   "outputs": [
    {
     "name": "stdout",
     "output_type": "stream",
     "text": [
      "Epoch 1/50\n",
      "12/12 [==============================] - 5s 342ms/step - loss: 0.7248 - accuracy: 0.3635 - val_loss: 0.6955 - val_accuracy: 0.3750\n",
      "Epoch 2/50\n",
      "12/12 [==============================] - 0s 16ms/step - loss: 0.6933 - accuracy: 0.3850 - val_loss: 0.6686 - val_accuracy: 0.6250\n",
      "Epoch 3/50\n",
      "12/12 [==============================] - 0s 24ms/step - loss: 0.6686 - accuracy: 0.6872 - val_loss: 0.6609 - val_accuracy: 0.6250\n",
      "Epoch 4/50\n",
      "12/12 [==============================] - 0s 22ms/step - loss: 0.6591 - accuracy: 0.6415 - val_loss: 0.6531 - val_accuracy: 0.6250\n",
      "Epoch 5/50\n",
      "12/12 [==============================] - 0s 17ms/step - loss: 0.6509 - accuracy: 0.6670 - val_loss: 0.6442 - val_accuracy: 0.6250\n",
      "Epoch 6/50\n",
      "12/12 [==============================] - 0s 24ms/step - loss: 0.6438 - accuracy: 0.6964 - val_loss: 0.6354 - val_accuracy: 0.6250\n",
      "Epoch 7/50\n",
      "12/12 [==============================] - 0s 23ms/step - loss: 0.6357 - accuracy: 0.6674 - val_loss: 0.6270 - val_accuracy: 0.6250\n",
      "Epoch 8/50\n",
      "12/12 [==============================] - 0s 25ms/step - loss: 0.6225 - accuracy: 0.6775 - val_loss: 0.6181 - val_accuracy: 0.6250\n",
      "Epoch 9/50\n",
      "12/12 [==============================] - 0s 27ms/step - loss: 0.6144 - accuracy: 0.6391 - val_loss: 0.6096 - val_accuracy: 0.6250\n",
      "Epoch 10/50\n",
      "12/12 [==============================] - 0s 15ms/step - loss: 0.6000 - accuracy: 0.5998 - val_loss: 0.6004 - val_accuracy: 0.6250\n",
      "Epoch 11/50\n",
      "12/12 [==============================] - 0s 18ms/step - loss: 0.6020 - accuracy: 0.6986 - val_loss: 0.5916 - val_accuracy: 0.6250\n",
      "Epoch 12/50\n",
      "12/12 [==============================] - 0s 17ms/step - loss: 0.5936 - accuracy: 0.7040 - val_loss: 0.5821 - val_accuracy: 0.6250\n",
      "Epoch 13/50\n",
      "12/12 [==============================] - 0s 15ms/step - loss: 0.5862 - accuracy: 0.7336 - val_loss: 0.5727 - val_accuracy: 0.6667\n",
      "Epoch 14/50\n",
      "12/12 [==============================] - 0s 15ms/step - loss: 0.5684 - accuracy: 0.6611 - val_loss: 0.5627 - val_accuracy: 0.6667\n",
      "Epoch 15/50\n",
      "12/12 [==============================] - 0s 14ms/step - loss: 0.5671 - accuracy: 0.7435 - val_loss: 0.5524 - val_accuracy: 0.6667\n",
      "Epoch 16/50\n",
      "12/12 [==============================] - 0s 19ms/step - loss: 0.5613 - accuracy: 0.7511 - val_loss: 0.5421 - val_accuracy: 0.6667\n",
      "Epoch 17/50\n",
      "12/12 [==============================] - 0s 16ms/step - loss: 0.5199 - accuracy: 0.5827 - val_loss: 0.5307 - val_accuracy: 0.6667\n",
      "Epoch 18/50\n",
      "12/12 [==============================] - 0s 22ms/step - loss: 0.5129 - accuracy: 0.5983 - val_loss: 0.5193 - val_accuracy: 0.6667\n",
      "Epoch 19/50\n",
      "12/12 [==============================] - 0s 17ms/step - loss: 0.5117 - accuracy: 0.6408 - val_loss: 0.5076 - val_accuracy: 0.6667\n",
      "Epoch 20/50\n",
      "12/12 [==============================] - 0s 28ms/step - loss: 0.4959 - accuracy: 0.6324 - val_loss: 0.4956 - val_accuracy: 0.6667\n",
      "Epoch 21/50\n",
      "12/12 [==============================] - 0s 32ms/step - loss: 0.4970 - accuracy: 0.6726 - val_loss: 0.4833 - val_accuracy: 0.6667\n",
      "Epoch 22/50\n",
      "12/12 [==============================] - 0s 32ms/step - loss: 0.4689 - accuracy: 0.6435 - val_loss: 0.4707 - val_accuracy: 0.6667\n",
      "Epoch 23/50\n",
      "12/12 [==============================] - 0s 30ms/step - loss: 0.4654 - accuracy: 0.6318 - val_loss: 0.4580 - val_accuracy: 0.6667\n",
      "Epoch 24/50\n",
      "12/12 [==============================] - 0s 28ms/step - loss: 0.4576 - accuracy: 0.7056 - val_loss: 0.4457 - val_accuracy: 0.6667\n",
      "Epoch 25/50\n",
      "12/12 [==============================] - 0s 26ms/step - loss: 0.4422 - accuracy: 0.6932 - val_loss: 0.4328 - val_accuracy: 0.6667\n",
      "Epoch 26/50\n",
      "12/12 [==============================] - 0s 25ms/step - loss: 0.4125 - accuracy: 0.6493 - val_loss: 0.4202 - val_accuracy: 0.6667\n",
      "Epoch 27/50\n",
      "12/12 [==============================] - 0s 29ms/step - loss: 0.3948 - accuracy: 0.6710 - val_loss: 0.4077 - val_accuracy: 0.6667\n",
      "Epoch 28/50\n",
      "12/12 [==============================] - 0s 23ms/step - loss: 0.3930 - accuracy: 0.6955 - val_loss: 0.3948 - val_accuracy: 0.6667\n",
      "Epoch 29/50\n",
      "12/12 [==============================] - 0s 25ms/step - loss: 0.3891 - accuracy: 0.6507 - val_loss: 0.3824 - val_accuracy: 0.6667\n",
      "Epoch 30/50\n",
      "12/12 [==============================] - 0s 28ms/step - loss: 0.3606 - accuracy: 0.6634 - val_loss: 0.3707 - val_accuracy: 0.6667\n",
      "Epoch 31/50\n",
      "12/12 [==============================] - 0s 29ms/step - loss: 0.3697 - accuracy: 0.6995 - val_loss: 0.3590 - val_accuracy: 0.6667\n",
      "Epoch 32/50\n",
      "12/12 [==============================] - 0s 34ms/step - loss: 0.3619 - accuracy: 0.6912 - val_loss: 0.3463 - val_accuracy: 0.6667\n",
      "Epoch 33/50\n",
      "12/12 [==============================] - 0s 32ms/step - loss: 0.3238 - accuracy: 0.6805 - val_loss: 0.3333 - val_accuracy: 0.6667\n",
      "Epoch 34/50\n",
      "12/12 [==============================] - 0s 28ms/step - loss: 0.3204 - accuracy: 0.7057 - val_loss: 0.3205 - val_accuracy: 0.6667\n",
      "Epoch 35/50\n",
      "12/12 [==============================] - 0s 32ms/step - loss: 0.2845 - accuracy: 0.6059 - val_loss: 0.3076 - val_accuracy: 0.6667\n",
      "Epoch 36/50\n",
      "12/12 [==============================] - 0s 32ms/step - loss: 0.2954 - accuracy: 0.6474 - val_loss: 0.2954 - val_accuracy: 0.6667\n",
      "Epoch 37/50\n",
      "12/12 [==============================] - 0s 32ms/step - loss: 0.2752 - accuracy: 0.6597 - val_loss: 0.2835 - val_accuracy: 0.6667\n",
      "Epoch 38/50\n",
      "12/12 [==============================] - 0s 31ms/step - loss: 0.2512 - accuracy: 0.6708 - val_loss: 0.2724 - val_accuracy: 0.6667\n",
      "Epoch 39/50\n",
      "12/12 [==============================] - 0s 31ms/step - loss: 0.2681 - accuracy: 0.7176 - val_loss: 0.2619 - val_accuracy: 0.6667\n",
      "Epoch 40/50\n",
      "12/12 [==============================] - 0s 29ms/step - loss: 0.2481 - accuracy: 0.7038 - val_loss: 0.2518 - val_accuracy: 0.6667\n",
      "Epoch 41/50\n",
      "12/12 [==============================] - 0s 28ms/step - loss: 0.2328 - accuracy: 0.6716 - val_loss: 0.2421 - val_accuracy: 0.6667\n",
      "Epoch 42/50\n",
      "12/12 [==============================] - 0s 23ms/step - loss: 0.2452 - accuracy: 0.7364 - val_loss: 0.2321 - val_accuracy: 0.6667\n",
      "Epoch 43/50\n",
      "12/12 [==============================] - 0s 41ms/step - loss: 0.1995 - accuracy: 0.6635 - val_loss: 0.2225 - val_accuracy: 0.6667\n",
      "Epoch 44/50\n",
      "12/12 [==============================] - 0s 32ms/step - loss: 0.2122 - accuracy: 0.6264 - val_loss: 0.2130 - val_accuracy: 0.6667\n",
      "Epoch 45/50\n",
      "12/12 [==============================] - 0s 31ms/step - loss: 0.1692 - accuracy: 0.5915 - val_loss: 0.2040 - val_accuracy: 0.6667\n",
      "Epoch 46/50\n",
      "12/12 [==============================] - 0s 36ms/step - loss: 0.2065 - accuracy: 0.6731 - val_loss: 0.1948 - val_accuracy: 0.6667\n",
      "Epoch 47/50\n",
      "12/12 [==============================] - 0s 26ms/step - loss: 0.1862 - accuracy: 0.7262 - val_loss: 0.1863 - val_accuracy: 0.6667\n",
      "Epoch 48/50\n",
      "12/12 [==============================] - 0s 34ms/step - loss: 0.1708 - accuracy: 0.6861 - val_loss: 0.1780 - val_accuracy: 0.6667\n",
      "Epoch 49/50\n",
      "12/12 [==============================] - 0s 32ms/step - loss: 0.1555 - accuracy: 0.6958 - val_loss: 0.1697 - val_accuracy: 0.6667\n",
      "Epoch 50/50\n",
      "12/12 [==============================] - 0s 33ms/step - loss: 0.1507 - accuracy: 0.7147 - val_loss: 0.1619 - val_accuracy: 0.6667\n"
     ]
    }
   ],
   "source": [
    "history = model.fit(X_train, y_train, validation_split=0.20, batch_size=8, epochs=50, verbose=1)"
   ]
  },
  {
   "cell_type": "markdown",
   "id": "29f2b9ac",
   "metadata": {},
   "source": [
    "## Plotting the accuracy and loss"
   ]
  },
  {
   "cell_type": "code",
   "execution_count": 17,
   "id": "d9d24015",
   "metadata": {},
   "outputs": [
    {
     "data": {
      "image/png": "[encoded data removed]",
      "text/plain": [
       "<Figure size 432x288 with 1 Axes>"
      ]
     },
     "metadata": {
      "needs_background": "light"
     },
     "output_type": "display_data"
    }
   ],
   "source": [
    "plt.plot(history.history['accuracy'])\n",
    "plt.plot(history.history['val_accuracy'])\n",
    "plt.title('model accuracy')\n",
    "plt.xlabel('epoch')\n",
    "plt.ylabel('accuracy')\n",
    "plt.legend(['train', 'test'], loc='upper left')\n",
    "plt.show()"
   ]
  },
  {
   "cell_type": "code",
   "execution_count": 18,
   "id": "b2195022",
   "metadata": {},
   "outputs": [
    {
     "data": {
      "image/png": "[encoded data removed]",
      "text/plain": [
       "<Figure size 432x288 with 1 Axes>"
      ]
     },
     "metadata": {
      "needs_background": "light"
     },
     "output_type": "display_data"
    }
   ],
   "source": [
    "plt.plot(history.history['loss'])\n",
    "plt.plot(history.history['val_loss'])\n",
    "plt.title('model loss')\n",
    "plt.ylabel('loss')\n",
    "plt.xlabel('epoch')\n",
    "plt.legend(['train','test'], loc='upper left')\n",
    "plt.show()"
   ]
  },
  {
   "cell_type": "code",
   "execution_count": 19,
   "id": "0e049248",
   "metadata": {},
   "outputs": [
    {
     "name": "stdout",
     "output_type": "stream",
     "text": [
      "1/1 [==============================] - 1s 502ms/step - loss: 0.0993 - accuracy: 0.6333\n"
     ]
    }
   ],
   "source": [
    "_, accuracy = model.evaluate(X_test, y_test)"
   ]
  },
  {
   "cell_type": "code",
   "execution_count": 20,
   "id": "eefda578",
   "metadata": {},
   "outputs": [
    {
     "name": "stdout",
     "output_type": "stream",
     "text": [
      "Accuracy: 63.33\n"
     ]
    }
   ],
   "source": [
    "print('Accuracy: %.2f' % (accuracy*100))"
   ]
  },
  {
   "cell_type": "code",
   "execution_count": 21,
   "id": "86887a49",
   "metadata": {},
   "outputs": [],
   "source": [
    "predictions = model.predict(X_test)"
   ]
  },
  {
   "cell_type": "code",
   "execution_count": 22,
   "id": "b7db38f8",
   "metadata": {},
   "outputs": [],
   "source": [
    "p = predictions.flatten()\n",
    "p = np.int_(p)"
   ]
  },
  {
   "cell_type": "code",
   "execution_count": 23,
   "id": "7133cdb6",
   "metadata": {},
   "outputs": [],
   "source": [
    "Yt = y_test.to_numpy()\n",
    "y = np.int_(Yt)"
   ]
  },
  {
   "cell_type": "code",
   "execution_count": 24,
   "id": "aa00dd91",
   "metadata": {},
   "outputs": [
    {
     "name": "stdout",
     "output_type": "stream",
     "text": [
      "[[12  0  0]\n",
      " [ 7  0  0]\n",
      " [11  0  0]]\n"
     ]
    }
   ],
   "source": [
    "cf_matrix = confusion_matrix(y, p)\n",
    "print(cf_matrix)"
   ]
  },
  {
   "cell_type": "code",
   "execution_count": null,
   "id": "e6f0b396",
   "metadata": {},
   "outputs": [],
   "source": []
  }
 ],
 "metadata": {
  "kernelspec": {
   "display_name": "Python 3",
   "language": "python",
   "name": "python3"
  },
  "language_info": {
   "codemirror_mode": {
    "name": "ipython",
    "version": 3
   },
   "file_extension": ".py",
   "mimetype": "text/x-python",
   "name": "python",
   "nbconvert_exporter": "python",
   "pygments_lexer": "ipython3",
   "version": "3.9.6"
  }
 },
 "nbformat": 4,
 "nbformat_minor": 5
}
